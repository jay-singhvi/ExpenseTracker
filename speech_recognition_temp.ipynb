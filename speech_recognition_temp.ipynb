{
 "cells": [
  {
   "cell_type": "code",
   "execution_count": null,
   "metadata": {},
   "outputs": [],
   "source": [
    "import os\n",
    "import whisper\n",
    "\n",
    "# Get the current working directory\n",
    "cwd_models = os.getcwd() + \"/models\""
   ]
  },
  {
   "cell_type": "code",
   "execution_count": null,
   "metadata": {},
   "outputs": [],
   "source": [
    "# Now, call load_model with the current working directory as the download_root\n",
    "medium_en_model = whisper.load_model(\n",
    "    \"medium.en\", download_root=cwd_models + \"/transcribe\", device=\"cpu\"\n",
    ")"
   ]
  },
  {
   "cell_type": "code",
   "execution_count": null,
   "metadata": {},
   "outputs": [],
   "source": [
    "medium_en_result = medium_en_model.transcribe(\"test.wav\")"
   ]
  },
  {
   "cell_type": "code",
   "execution_count": null,
   "metadata": {},
   "outputs": [],
   "source": [
    "display(medium_en_result[\"text\"].strip())"
   ]
  },
  {
   "cell_type": "code",
   "execution_count": null,
   "metadata": {},
   "outputs": [],
   "source": []
  },
  {
   "cell_type": "code",
   "execution_count": null,
   "metadata": {},
   "outputs": [],
   "source": []
  },
  {
   "cell_type": "code",
   "execution_count": null,
   "metadata": {},
   "outputs": [],
   "source": []
  },
  {
   "cell_type": "code",
   "execution_count": null,
   "metadata": {},
   "outputs": [],
   "source": []
  },
  {
   "cell_type": "code",
   "execution_count": 1,
   "metadata": {},
   "outputs": [],
   "source": [
    "import sys\n",
    "import os\n",
    "import tabula\n",
    "import pandas as pd\n",
    "\n",
    "\n",
    "def pdf_to_df(filename: str, pdf_password: str, root_dir: str):  # type: ignore\n",
    "\n",
    "    if root_dir not in sys.path:\n",
    "        sys.path.append(root_dir)\n",
    "\n",
    "    # Correctly specify the path to your bank statement PDF\n",
    "    filepath = root_dir + f\"/data/bankstatements/{filename}\"\n",
    "\n",
    "    # Generate the list dynamically\n",
    "    column_list = [\"Column\" + str(i) for i in range(20)]\n",
    "    # print(column_list)\n",
    "\n",
    "    dfs = tabula.read_pdf(\n",
    "        input_path=filepath,\n",
    "        output_format=\"dataframe\",\n",
    "        encoding=\"utf-8\",\n",
    "        password=pdf_password,\n",
    "        pages=\"all\",\n",
    "        multiple_tables=True,\n",
    "        lattice=True,\n",
    "        guess=False,\n",
    "        pandas_options={\n",
    "            \"names\": column_list,\n",
    "            \"header\": None,\n",
    "        },\n",
    "    )\n",
    "\n",
    "    clean_df = pd.DataFrame(columns=column_list)\n",
    "    for i in dfs:\n",
    "\n",
    "        temp_df = (\n",
    "            i.replace(\"\\r\", \" \", regex=True)\n",
    "            .replace(r\"(\\d),(\\d)\", r\"\\1\\2\", regex=True)\n",
    "            .replace(\",\", \" \", regex=True)\n",
    "        )\n",
    "\n",
    "        clean_df = pd.concat([clean_df, temp_df], axis=0, ignore_index=True)\n",
    "\n",
    "    clean_df = clean_df.dropna(axis=1, how=\"all\")\n",
    "    # clean_df.to_csv(\"test.csv\", index=False, header=True)\n",
    "    # Convert DataFrame to comma-separated string\n",
    "    csv_string = clean_df.to_csv(index=False)\n",
    "    return csv_string\n",
    "\n",
    "\n",
    "# Specify the project root directory\n",
    "root_dir = os.getcwd()\n",
    "filename = \"2020 - 02 - February.pdf\"\n",
    "# Specify the password to decrypt the PDF\n",
    "pdf_password = \"11323650\"\n",
    "csv_string = pdf_to_df(filename, pdf_password, root_dir)\n",
    "# print(csv_string)"
   ]
  },
  {
   "cell_type": "code",
   "execution_count": 2,
   "metadata": {},
   "outputs": [
    {
     "name": "stdout",
     "output_type": "stream",
     "text": [
      "\n",
      "Using the data provided from a bank statement, transform the transaction details into a standardized list format.\n",
      "Each transaction entry should be structured as following 3 columns: 'date, description, amount'.\n",
      "Ensure description does not contain the values of amount as it would be redundant.\n",
      "Here's the raw data extracted for processing:\n",
      "\n",
      "Column0,Column1,Column2,Column3,Column4,Column5,Column6\n",
      "Account Number 11323650810001,,,,,,\n",
      "11323650920001,Current Account Personal,AED,19709.28,19709.28,,\n",
      ",Total,,,19709.28,,\n",
      "Accounts 475,,,,,,\n",
      "05/02/2020,1304054767 MBTRF,08430239,05/02/2020,15000.00,,94461.15\n",
      "11/02/2020,PG-100000000527-51712.25- UAEEXCHANGEBET,276296,11/02/2020,51712.25,,42748.90\n",
      "18/02/2020,PG-100000003671-40000.00- UAEEXCHANGEBET,282391,18/02/2020,40000.00,,2748.90\n",
      "22/02/2020,CREDIT CARD PAYMNT XXXXXXXXXXXX3118,45761085,22/02/2020,1201.36,,1547.54\n",
      "22/02/2020,1345764824 MBTRF,88113985,22/02/2020,1547.54,,0.00\n",
      ",Total,,,109461.15,0.00,\n",
      "03/02/2020,I/W CLEARING CHEQUE,000004,03/02/2020,11250.00,,-268.51\n",
      "03/02/2020,CHQ RETRN:Insufficient Funds(INF),000004,03/02/2020,,11250.00,10981.49\n",
      "03/02/2020,Cheque Return Charge,000004,03/02/2020,241.50,,10739.99\n",
      "05/02/2020,PG-100000002306-5169.50- UAEEXCHANGEBETA,270482,05/02/2020,5169.50,,5570.49\n",
      "05/02/2020,1304054767 MBTRF_B/O,08430239,05/02/2020,,15000.00,20570.49\n",
      "13/02/2020,1325262090 MBTRF AED11775@Amlak Finance,49881522,13/02/2020,11775.00,,8795.49\n",
      "18/02/2020,1337088250 MBTRF AED10.00@Jay ashok sing,71871416,18/02/2020,10.00,,8785.49\n",
      "22/02/2020,1345764824 MBTRF_B/O,88113985,22/02/2020,,1547.54,10333.03\n",
      "24/02/2020,PG-100000003784-5123.75- UAEEXCHANGEBETA,286891,24/02/2020,5123.75,,5209.28\n",
      "24/02/2020,SALARY,1,24/02/2020,,14500.00,19709.28\n",
      ",Total,,,33569.75,42297.54,\n",
      "\n",
      "\n",
      "Transform this data into a clean, readable list of transactions, adhering to the specified format.\n",
      "Ensure to include the negative sign for deductions from the account.\n",
      "Ensure you provide the data nothing else in response\n"
     ]
    }
   ],
   "source": [
    "promt_str = (\n",
    "    \"\"\"\n",
    "Using the data provided from a bank statement, transform the transaction details into a standardized list format.\n",
    "Each transaction entry should be structured as following 3 columns: 'date, description, amount'.\n",
    "Ensure description does not contain the values of amount as it would be redundant.\n",
    "Here's the raw data extracted for processing:\n",
    "\n",
    "\"\"\"\n",
    "    + csv_string\n",
    "    + \"\"\"\n",
    "\n",
    "Transform this data into a clean, readable list of transactions, adhering to the specified format.\n",
    "Ensure to include the negative sign for deductions from the account.\n",
    "Ensure you provide the data nothing else in response\"\"\"\n",
    ")\n",
    "print(promt_str)"
   ]
  },
  {
   "cell_type": "code",
   "execution_count": null,
   "metadata": {},
   "outputs": [],
   "source": []
  },
  {
   "cell_type": "code",
   "execution_count": null,
   "metadata": {},
   "outputs": [],
   "source": []
  },
  {
   "cell_type": "code",
   "execution_count": null,
   "metadata": {},
   "outputs": [],
   "source": []
  },
  {
   "cell_type": "code",
   "execution_count": null,
   "metadata": {},
   "outputs": [],
   "source": [
    "from langchain_community.llms import Ollama"
   ]
  },
  {
   "cell_type": "code",
   "execution_count": null,
   "metadata": {},
   "outputs": [],
   "source": [
    "llm = Ollama(model=\"gemma\")"
   ]
  },
  {
   "cell_type": "code",
   "execution_count": null,
   "metadata": {},
   "outputs": [],
   "source": [
    "# display(llm.invoke(\"Tell me a joke\"))"
   ]
  },
  {
   "cell_type": "code",
   "execution_count": null,
   "metadata": {},
   "outputs": [],
   "source": [
    "gemma_str = llm.invoke(promt_str)\n",
    "display(gemma_str)"
   ]
  },
  {
   "cell_type": "code",
   "execution_count": null,
   "metadata": {},
   "outputs": [],
   "source": [
    "import pandas as pd\n",
    "\n",
    "# Split the string into lines\n",
    "lines = \"\"\"Sure, here's the transformed data in the specified format:\\n\\n... (rest of your string)\"\"\".splitlines()[\n",
    "    3:-1\n",
    "]  # Remove header and incomplete line\n",
    "\n",
    "# Create a list of lists, where each inner list represents a row\n",
    "data = []\n",
    "for line in lines:\n",
    "    row = line.split(\",\")\n",
    "    data.append(row)\n",
    "\n",
    "# Create the DataFrame\n",
    "df = pd.DataFrame(data, columns=[\"Date\", \"Description\", \"Amount\"])\n",
    "\n",
    "print(df)"
   ]
  }
 ],
 "metadata": {
  "kernelspec": {
   "display_name": "Python 3",
   "language": "python",
   "name": "python3"
  },
  "language_info": {
   "codemirror_mode": {
    "name": "ipython",
    "version": 3
   },
   "file_extension": ".py",
   "mimetype": "text/x-python",
   "name": "python",
   "nbconvert_exporter": "python",
   "pygments_lexer": "ipython3",
   "version": "3.11.7"
  }
 },
 "nbformat": 4,
 "nbformat_minor": 2
}
